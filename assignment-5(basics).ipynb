{
 "cells": [
  {
   "cell_type": "raw",
   "id": "9b5143c9",
   "metadata": {},
   "source": [
    "1. Write a function to compute 5/0 and use try/except to catch the exceptions."
   ]
  },
  {
   "cell_type": "code",
   "execution_count": 2,
   "id": "55f8e083",
   "metadata": {},
   "outputs": [
    {
     "name": "stdout",
     "output_type": "stream",
     "text": [
      "division by zero\n"
     ]
    }
   ],
   "source": [
    "try:\n",
    "    5/0\n",
    "except Exception as e:\n",
    "    print(e)"
   ]
  },
  {
   "cell_type": "raw",
   "id": "d3c3ac5d",
   "metadata": {},
   "source": [
    "2.Implement a Python program to generate all sentences where subject is in\n",
    "[\"Americans\", \"Indians\"] and verb is in [\"Play\", \"watch\"] and the object is in\n",
    "[\"Baseball\",\"cricket\"]."
   ]
  },
  {
   "cell_type": "code",
   "execution_count": 3,
   "id": "05a9990f",
   "metadata": {},
   "outputs": [],
   "source": [
    "subject = [\"Americans\", \"Indians\"]\n",
    "verb = [\"Play\", \"watch\"]\n",
    "objects = [\"Baseball\",\"cricket\"]"
   ]
  },
  {
   "cell_type": "code",
   "execution_count": 15,
   "id": "bbc2c70b",
   "metadata": {},
   "outputs": [],
   "source": [
    "final = []\n",
    "for i in subject:\n",
    "    for j in verb:\n",
    "        for k in objects:\n",
    "            final.append(i+\" \"+j+\" \"+k)\n"
   ]
  },
  {
   "cell_type": "code",
   "execution_count": 16,
   "id": "08799685",
   "metadata": {},
   "outputs": [
    {
     "data": {
      "text/plain": [
       "['Americans Play Baseball',\n",
       " 'Americans Play cricket',\n",
       " 'Americans watch Baseball',\n",
       " 'Americans watch cricket',\n",
       " 'Indians Play Baseball',\n",
       " 'Indians Play cricket',\n",
       " 'Indians watch Baseball',\n",
       " 'Indians watch cricket']"
      ]
     },
     "execution_count": 16,
     "metadata": {},
     "output_type": "execute_result"
    }
   ],
   "source": [
    "final"
   ]
  },
  {
   "cell_type": "code",
   "execution_count": null,
   "id": "69668879",
   "metadata": {},
   "outputs": [],
   "source": []
  }
 ],
 "metadata": {
  "kernelspec": {
   "display_name": "Python 3 (ipykernel)",
   "language": "python",
   "name": "python3"
  },
  "language_info": {
   "codemirror_mode": {
    "name": "ipython",
    "version": 3
   },
   "file_extension": ".py",
   "mimetype": "text/x-python",
   "name": "python",
   "nbconvert_exporter": "python",
   "pygments_lexer": "ipython3",
   "version": "3.9.12"
  }
 },
 "nbformat": 4,
 "nbformat_minor": 5
}
